{
  "cells": [
    {
      "cell_type": "code",
      "execution_count": null,
      "metadata": {
        "id": "C_hTdRiAYvEH"
      },
      "outputs": [],
      "source": []
    },
    {
      "cell_type": "markdown",
      "metadata": {
        "id": "-dXgyMGrZNbR"
      },
      "source": [
        "# MLOps"
      ]
    },
    {
      "cell_type": "markdown",
      "metadata": {
        "id": "0X3n8OJRZbLk"
      },
      "source": [
        "<img data-ils=\"4\" jsaction=\"rcuQ6b:trigger.M8vzZb;\" class=\"rg_i Q4LuWd\" jsname=\"Q4LuWd\" width=\"392\" height=\"130\" alt=\"ML Ops: Machine Learning Operations\" src=\"https://encrypted-tbn0.gstatic.com/images?q=tbn:ANd9GcSIuAc5HoXRJxb0l7yKepV_v6n2bHurVxp7ww&amp;usqp=CAU\">"
      ]
    },
    {
      "cell_type": "markdown",
      "metadata": {
        "id": "6hcFmz0pZjKq"
      },
      "source": [
        "$Step-1$: **Install required packages**\n",
        "\n",
        "here our required package is mlflow"
      ]
    },
    {
      "cell_type": "code",
      "execution_count": null,
      "metadata": {
        "colab": {
          "base_uri": "https://localhost:8080/"
        },
        "id": "J6lg6P_tZ2ur",
        "outputId": "1a29388f-1fc5-4b00-8e48-6dea5f0529c6"
      },
      "outputs": [
        {
          "name": "stdout",
          "output_type": "stream",
          "text": [
            "Collecting mlflow\n",
            "  Downloading mlflow-2.13.1-py3-none-any.whl (25.0 MB)\n",
            "\u001b[2K     \u001b[90m━━━━━━━━━━━━━━━━━━━━━━━━━━━━━━━━━━━━━━━━\u001b[0m \u001b[32m25.0/25.0 MB\u001b[0m \u001b[31m36.4 MB/s\u001b[0m eta \u001b[36m0:00:00\u001b[0m\n",
            "\u001b[?25hRequirement already satisfied: Flask<4 in /usr/local/lib/python3.10/dist-packages (from mlflow) (2.2.5)\n",
            "Collecting alembic!=1.10.0,<2 (from mlflow)\n",
            "  Downloading alembic-1.13.1-py3-none-any.whl (233 kB)\n",
            "\u001b[2K     \u001b[90m━━━━━━━━━━━━━━━━━━━━━━━━━━━━━━━━━━━━━━━━\u001b[0m \u001b[32m233.4/233.4 kB\u001b[0m \u001b[31m20.8 MB/s\u001b[0m eta \u001b[36m0:00:00\u001b[0m\n",
            "\u001b[?25hRequirement already satisfied: cachetools<6,>=5.0.0 in /usr/local/lib/python3.10/dist-packages (from mlflow) (5.3.3)\n",
            "Requirement already satisfied: click<9,>=7.0 in /usr/local/lib/python3.10/dist-packages (from mlflow) (8.1.7)\n",
            "Requirement already satisfied: cloudpickle<4 in /usr/local/lib/python3.10/dist-packages (from mlflow) (2.2.1)\n",
            "Collecting docker<8,>=4.0.0 (from mlflow)\n",
            "  Downloading docker-7.1.0-py3-none-any.whl (147 kB)\n",
            "\u001b[2K     \u001b[90m━━━━━━━━━━━━━━━━━━━━━━━━━━━━━━━━━━━━━━━━\u001b[0m \u001b[32m147.8/147.8 kB\u001b[0m \u001b[31m15.3 MB/s\u001b[0m eta \u001b[36m0:00:00\u001b[0m\n",
            "\u001b[?25hRequirement already satisfied: entrypoints<1 in /usr/local/lib/python3.10/dist-packages (from mlflow) (0.4)\n",
            "Collecting gitpython<4,>=3.1.9 (from mlflow)\n",
            "  Downloading GitPython-3.1.43-py3-none-any.whl (207 kB)\n",
            "\u001b[2K     \u001b[90m━━━━━━━━━━━━━━━━━━━━━━━━━━━━━━━━━━━━━━━━\u001b[0m \u001b[32m207.3/207.3 kB\u001b[0m \u001b[31m19.4 MB/s\u001b[0m eta \u001b[36m0:00:00\u001b[0m\n",
            "\u001b[?25hCollecting graphene<4 (from mlflow)\n",
            "  Downloading graphene-3.3-py2.py3-none-any.whl (128 kB)\n",
            "\u001b[2K     \u001b[90m━━━━━━━━━━━━━━━━━━━━━━━━━━━━━━━━━━━━━━━━\u001b[0m \u001b[32m128.2/128.2 kB\u001b[0m \u001b[31m14.5 MB/s\u001b[0m eta \u001b[36m0:00:00\u001b[0m\n",
            "\u001b[?25hRequirement already satisfied: importlib-metadata!=4.7.0,<8,>=3.7.0 in /usr/local/lib/python3.10/dist-packages (from mlflow) (7.1.0)\n",
            "Requirement already satisfied: markdown<4,>=3.3 in /usr/local/lib/python3.10/dist-packages (from mlflow) (3.6)\n",
            "Requirement already satisfied: matplotlib<4 in /usr/local/lib/python3.10/dist-packages (from mlflow) (3.7.1)\n",
            "Requirement already satisfied: numpy<2 in /usr/local/lib/python3.10/dist-packages (from mlflow) (1.25.2)\n",
            "Collecting opentelemetry-api<3,>=1.0.0 (from mlflow)\n",
            "  Downloading opentelemetry_api-1.25.0-py3-none-any.whl (59 kB)\n",
            "\u001b[2K     \u001b[90m━━━━━━━━━━━━━━━━━━━━━━━━━━━━━━━━━━━━━━━━\u001b[0m \u001b[32m59.9/59.9 kB\u001b[0m \u001b[31m5.7 MB/s\u001b[0m eta \u001b[36m0:00:00\u001b[0m\n",
            "\u001b[?25hCollecting opentelemetry-sdk<3,>=1.0.0 (from mlflow)\n",
            "  Downloading opentelemetry_sdk-1.25.0-py3-none-any.whl (107 kB)\n",
            "\u001b[2K     \u001b[90m━━━━━━━━━━━━━━━━━━━━━━━━━━━━━━━━━━━━━━━━\u001b[0m \u001b[32m107.0/107.0 kB\u001b[0m \u001b[31m9.7 MB/s\u001b[0m eta \u001b[36m0:00:00\u001b[0m\n",
            "\u001b[?25hRequirement already satisfied: packaging<25 in /usr/local/lib/python3.10/dist-packages (from mlflow) (24.0)\n",
            "Requirement already satisfied: pandas<3 in /usr/local/lib/python3.10/dist-packages (from mlflow) (2.0.3)\n",
            "Requirement already satisfied: protobuf<5,>=3.12.0 in /usr/local/lib/python3.10/dist-packages (from mlflow) (3.20.3)\n",
            "Requirement already satisfied: pyarrow<16,>=4.0.0 in /usr/local/lib/python3.10/dist-packages (from mlflow) (14.0.2)\n",
            "Requirement already satisfied: pytz<2025 in /usr/local/lib/python3.10/dist-packages (from mlflow) (2023.4)\n",
            "Requirement already satisfied: pyyaml<7,>=5.1 in /usr/local/lib/python3.10/dist-packages (from mlflow) (6.0.1)\n",
            "Collecting querystring-parser<2 (from mlflow)\n",
            "  Downloading querystring_parser-1.2.4-py2.py3-none-any.whl (7.9 kB)\n",
            "Requirement already satisfied: requests<3,>=2.17.3 in /usr/local/lib/python3.10/dist-packages (from mlflow) (2.31.0)\n",
            "Requirement already satisfied: scikit-learn<2 in /usr/local/lib/python3.10/dist-packages (from mlflow) (1.2.2)\n",
            "Requirement already satisfied: scipy<2 in /usr/local/lib/python3.10/dist-packages (from mlflow) (1.11.4)\n",
            "Requirement already satisfied: sqlalchemy<3,>=1.4.0 in /usr/local/lib/python3.10/dist-packages (from mlflow) (2.0.30)\n",
            "Requirement already satisfied: sqlparse<1,>=0.4.0 in /usr/local/lib/python3.10/dist-packages (from mlflow) (0.5.0)\n",
            "Requirement already satisfied: Jinja2<4,>=2.11 in /usr/local/lib/python3.10/dist-packages (from mlflow) (3.1.4)\n",
            "Collecting gunicorn<23 (from mlflow)\n",
            "  Downloading gunicorn-22.0.0-py3-none-any.whl (84 kB)\n",
            "\u001b[2K     \u001b[90m━━━━━━━━━━━━━━━━━━━━━━━━━━━━━━━━━━━━━━━━\u001b[0m \u001b[32m84.4/84.4 kB\u001b[0m \u001b[31m8.0 MB/s\u001b[0m eta \u001b[36m0:00:00\u001b[0m\n",
            "\u001b[?25hCollecting Mako (from alembic!=1.10.0,<2->mlflow)\n",
            "  Downloading Mako-1.3.5-py3-none-any.whl (78 kB)\n",
            "\u001b[2K     \u001b[90m━━━━━━━━━━━━━━━━━━━━━━━━━━━━━━━━━━━━━━━━\u001b[0m \u001b[32m78.6/78.6 kB\u001b[0m \u001b[31m7.5 MB/s\u001b[0m eta \u001b[36m0:00:00\u001b[0m\n",
            "\u001b[?25hRequirement already satisfied: typing-extensions>=4 in /usr/local/lib/python3.10/dist-packages (from alembic!=1.10.0,<2->mlflow) (4.11.0)\n",
            "Requirement already satisfied: urllib3>=1.26.0 in /usr/local/lib/python3.10/dist-packages (from docker<8,>=4.0.0->mlflow) (2.0.7)\n",
            "Requirement already satisfied: Werkzeug>=2.2.2 in /usr/local/lib/python3.10/dist-packages (from Flask<4->mlflow) (3.0.3)\n",
            "Requirement already satisfied: itsdangerous>=2.0 in /usr/local/lib/python3.10/dist-packages (from Flask<4->mlflow) (2.2.0)\n",
            "Collecting gitdb<5,>=4.0.1 (from gitpython<4,>=3.1.9->mlflow)\n",
            "  Downloading gitdb-4.0.11-py3-none-any.whl (62 kB)\n",
            "\u001b[2K     \u001b[90m━━━━━━━━━━━━━━━━━━━━━━━━━━━━━━━━━━━━━━━━\u001b[0m \u001b[32m62.7/62.7 kB\u001b[0m \u001b[31m6.2 MB/s\u001b[0m eta \u001b[36m0:00:00\u001b[0m\n",
            "\u001b[?25hCollecting graphql-core<3.3,>=3.1 (from graphene<4->mlflow)\n",
            "  Downloading graphql_core-3.2.3-py3-none-any.whl (202 kB)\n",
            "\u001b[2K     \u001b[90m━━━━━━━━━━━━━━━━━━━━━━━━━━━━━━━━━━━━━━━━\u001b[0m \u001b[32m202.9/202.9 kB\u001b[0m \u001b[31m18.6 MB/s\u001b[0m eta \u001b[36m0:00:00\u001b[0m\n",
            "\u001b[?25hCollecting graphql-relay<3.3,>=3.1 (from graphene<4->mlflow)\n",
            "  Downloading graphql_relay-3.2.0-py3-none-any.whl (16 kB)\n",
            "Collecting aniso8601<10,>=8 (from graphene<4->mlflow)\n",
            "  Downloading aniso8601-9.0.1-py2.py3-none-any.whl (52 kB)\n",
            "\u001b[2K     \u001b[90m━━━━━━━━━━━━━━━━━━━━━━━━━━━━━━━━━━━━━━━━\u001b[0m \u001b[32m52.8/52.8 kB\u001b[0m \u001b[31m5.4 MB/s\u001b[0m eta \u001b[36m0:00:00\u001b[0m\n",
            "\u001b[?25hRequirement already satisfied: zipp>=0.5 in /usr/local/lib/python3.10/dist-packages (from importlib-metadata!=4.7.0,<8,>=3.7.0->mlflow) (3.18.2)\n",
            "Requirement already satisfied: MarkupSafe>=2.0 in /usr/local/lib/python3.10/dist-packages (from Jinja2<4,>=2.11->mlflow) (2.1.5)\n",
            "Requirement already satisfied: contourpy>=1.0.1 in /usr/local/lib/python3.10/dist-packages (from matplotlib<4->mlflow) (1.2.1)\n",
            "Requirement already satisfied: cycler>=0.10 in /usr/local/lib/python3.10/dist-packages (from matplotlib<4->mlflow) (0.12.1)\n",
            "Requirement already satisfied: fonttools>=4.22.0 in /usr/local/lib/python3.10/dist-packages (from matplotlib<4->mlflow) (4.51.0)\n",
            "Requirement already satisfied: kiwisolver>=1.0.1 in /usr/local/lib/python3.10/dist-packages (from matplotlib<4->mlflow) (1.4.5)\n",
            "Requirement already satisfied: pillow>=6.2.0 in /usr/local/lib/python3.10/dist-packages (from matplotlib<4->mlflow) (9.4.0)\n",
            "Requirement already satisfied: pyparsing>=2.3.1 in /usr/local/lib/python3.10/dist-packages (from matplotlib<4->mlflow) (3.1.2)\n",
            "Requirement already satisfied: python-dateutil>=2.7 in /usr/local/lib/python3.10/dist-packages (from matplotlib<4->mlflow) (2.8.2)\n",
            "Collecting deprecated>=1.2.6 (from opentelemetry-api<3,>=1.0.0->mlflow)\n",
            "  Downloading Deprecated-1.2.14-py2.py3-none-any.whl (9.6 kB)\n",
            "Collecting opentelemetry-semantic-conventions==0.46b0 (from opentelemetry-sdk<3,>=1.0.0->mlflow)\n",
            "  Downloading opentelemetry_semantic_conventions-0.46b0-py3-none-any.whl (130 kB)\n",
            "\u001b[2K     \u001b[90m━━━━━━━━━━━━━━━━━━━━━━━━━━━━━━━━━━━━━━━━\u001b[0m \u001b[32m130.5/130.5 kB\u001b[0m \u001b[31m14.3 MB/s\u001b[0m eta \u001b[36m0:00:00\u001b[0m\n",
            "\u001b[?25hRequirement already satisfied: tzdata>=2022.1 in /usr/local/lib/python3.10/dist-packages (from pandas<3->mlflow) (2024.1)\n",
            "Requirement already satisfied: six in /usr/local/lib/python3.10/dist-packages (from querystring-parser<2->mlflow) (1.16.0)\n",
            "Requirement already satisfied: charset-normalizer<4,>=2 in /usr/local/lib/python3.10/dist-packages (from requests<3,>=2.17.3->mlflow) (3.3.2)\n",
            "Requirement already satisfied: idna<4,>=2.5 in /usr/local/lib/python3.10/dist-packages (from requests<3,>=2.17.3->mlflow) (3.7)\n",
            "Requirement already satisfied: certifi>=2017.4.17 in /usr/local/lib/python3.10/dist-packages (from requests<3,>=2.17.3->mlflow) (2024.2.2)\n",
            "Requirement already satisfied: joblib>=1.1.1 in /usr/local/lib/python3.10/dist-packages (from scikit-learn<2->mlflow) (1.4.2)\n",
            "Requirement already satisfied: threadpoolctl>=2.0.0 in /usr/local/lib/python3.10/dist-packages (from scikit-learn<2->mlflow) (3.5.0)\n",
            "Requirement already satisfied: greenlet!=0.4.17 in /usr/local/lib/python3.10/dist-packages (from sqlalchemy<3,>=1.4.0->mlflow) (3.0.3)\n",
            "Requirement already satisfied: wrapt<2,>=1.10 in /usr/local/lib/python3.10/dist-packages (from deprecated>=1.2.6->opentelemetry-api<3,>=1.0.0->mlflow) (1.14.1)\n",
            "Collecting smmap<6,>=3.0.1 (from gitdb<5,>=4.0.1->gitpython<4,>=3.1.9->mlflow)\n",
            "  Downloading smmap-5.0.1-py3-none-any.whl (24 kB)\n",
            "Installing collected packages: aniso8601, smmap, querystring-parser, Mako, gunicorn, graphql-core, deprecated, opentelemetry-api, graphql-relay, gitdb, docker, alembic, opentelemetry-semantic-conventions, graphene, gitpython, opentelemetry-sdk, mlflow\n",
            "Successfully installed Mako-1.3.5 alembic-1.13.1 aniso8601-9.0.1 deprecated-1.2.14 docker-7.1.0 gitdb-4.0.11 gitpython-3.1.43 graphene-3.3 graphql-core-3.2.3 graphql-relay-3.2.0 gunicorn-22.0.0 mlflow-2.13.1 opentelemetry-api-1.25.0 opentelemetry-sdk-1.25.0 opentelemetry-semantic-conventions-0.46b0 querystring-parser-1.2.4 smmap-5.0.1\n"
          ]
        }
      ],
      "source": [
        "!pip install mlflow"
      ]
    },
    {
      "cell_type": "code",
      "execution_count": null,
      "metadata": {
        "colab": {
          "base_uri": "https://localhost:8080/"
        },
        "id": "JDsy1FhNZve6",
        "outputId": "41f8f201-3b93-4361-f80b-db0d62ed3120"
      },
      "outputs": [
        {
          "name": "stdout",
          "output_type": "stream",
          "text": [
            "Usage: mlflow [OPTIONS] COMMAND [ARGS]...\n",
            "\n",
            "Options:\n",
            "  --version  Show the version and exit.\n",
            "  --help     Show this message and exit.\n",
            "\n",
            "Commands:\n",
            "  artifacts    Upload, list, and download artifacts from an MLflow...\n",
            "  db           Commands for managing an MLflow tracking database.\n",
            "  deployments  Deploy MLflow models to custom targets.\n",
            "  doctor       Prints out useful information for debugging issues with MLflow.\n",
            "  experiments  Manage experiments.\n",
            "  gc           Permanently delete runs in the `deleted` lifecycle stage.\n",
            "  models       Deploy MLflow models locally.\n",
            "  recipes      Run MLflow Recipes and inspect recipe results.\n",
            "  run          Run an MLflow project from the given URI.\n",
            "  runs         Manage runs.\n",
            "  sagemaker    Serve models on SageMaker.\n",
            "  server       Run the MLflow tracking server.\n"
          ]
        }
      ],
      "source": [
        "!mlflow"
      ]
    },
    {
      "cell_type": "code",
      "execution_count": null,
      "metadata": {
        "colab": {
          "base_uri": "https://localhost:8080/"
        },
        "id": "4hesYxjBZytj",
        "outputId": "73a4ed0b-b7e6-4a60-a141-cff04363caeb"
      },
      "outputs": [
        {
          "name": "stdout",
          "output_type": "stream",
          "text": [
            "mlflow, version 2.13.1\n"
          ]
        }
      ],
      "source": [
        "!mlflow --version"
      ]
    },
    {
      "cell_type": "markdown",
      "metadata": {
        "id": "mRXpVsptaUkC"
      },
      "source": [
        "$Step-2$: **Import required packages**\n",
        "\n",
        "- Pandas : to read and analysis of the data\n",
        "\n",
        "- Numpy: For the numerical analysis/ some mathamatical formulae\n",
        "\n",
        "- Sklearn: sikit-learn for ML development\n",
        "\n",
        "- mlflow"
      ]
    },
    {
      "cell_type": "code",
      "execution_count": null,
      "metadata": {
        "id": "COYv6_gbaKVK"
      },
      "outputs": [],
      "source": [
        "import numpy as np\n",
        "import pandas as pd\n",
        "from sklearn.linear_model import ElasticNet  # ML model\n",
        "from sklearn.model_selection import train_test_split\n",
        "from sklearn.metrics import mean_absolute_error,mean_squared_error,r2_score\n",
        "import mlflow\n",
        "import mlflow.sklearn"
      ]
    },
    {
      "cell_type": "markdown",
      "metadata": {
        "id": "Z6tY_wFRbzAJ"
      },
      "source": [
        "$Step-3$: **Read the data**"
      ]
    },
    {
      "cell_type": "code",
      "execution_count": null,
      "metadata": {
        "colab": {
          "base_uri": "https://localhost:8080/",
          "height": 261
        },
        "id": "jbKKx821bv75",
        "outputId": "9f9202e6-5e90-498e-dbf2-200b484743c8"
      },
      "outputs": [
        {
          "data": {
            "application/vnd.google.colaboratory.intrinsic+json": {
              "summary": "{\n  \"name\": \"data\",\n  \"rows\": 1599,\n  \"fields\": [\n    {\n      \"column\": \"fixed acidity\",\n      \"properties\": {\n        \"dtype\": \"number\",\n        \"std\": 1.7410963181276953,\n        \"min\": 4.6,\n        \"max\": 15.9,\n        \"num_unique_values\": 96,\n        \"samples\": [\n          5.3,\n          12.7,\n          12.6\n        ],\n        \"semantic_type\": \"\",\n        \"description\": \"\"\n      }\n    },\n    {\n      \"column\": \"volatile acidity\",\n      \"properties\": {\n        \"dtype\": \"number\",\n        \"std\": 0.17905970415353537,\n        \"min\": 0.12,\n        \"max\": 1.58,\n        \"num_unique_values\": 143,\n        \"samples\": [\n          1.025,\n          0.4,\n          0.87\n        ],\n        \"semantic_type\": \"\",\n        \"description\": \"\"\n      }\n    },\n    {\n      \"column\": \"citric acid\",\n      \"properties\": {\n        \"dtype\": \"number\",\n        \"std\": 0.19480113740531857,\n        \"min\": 0.0,\n        \"max\": 1.0,\n        \"num_unique_values\": 80,\n        \"samples\": [\n          0.37,\n          0.0,\n          0.09\n        ],\n        \"semantic_type\": \"\",\n        \"description\": \"\"\n      }\n    },\n    {\n      \"column\": \"residual sugar\",\n      \"properties\": {\n        \"dtype\": \"number\",\n        \"std\": 1.4099280595072798,\n        \"min\": 0.9,\n        \"max\": 15.5,\n        \"num_unique_values\": 91,\n        \"samples\": [\n          11.0,\n          3.0,\n          15.5\n        ],\n        \"semantic_type\": \"\",\n        \"description\": \"\"\n      }\n    },\n    {\n      \"column\": \"chlorides\",\n      \"properties\": {\n        \"dtype\": \"number\",\n        \"std\": 0.0470653020100901,\n        \"min\": 0.012,\n        \"max\": 0.611,\n        \"num_unique_values\": 153,\n        \"samples\": [\n          0.096,\n          0.343,\n          0.159\n        ],\n        \"semantic_type\": \"\",\n        \"description\": \"\"\n      }\n    },\n    {\n      \"column\": \"free sulfur dioxide\",\n      \"properties\": {\n        \"dtype\": \"number\",\n        \"std\": 10.460156969809725,\n        \"min\": 1.0,\n        \"max\": 72.0,\n        \"num_unique_values\": 60,\n        \"samples\": [\n          11.0,\n          9.0,\n          32.0\n        ],\n        \"semantic_type\": \"\",\n        \"description\": \"\"\n      }\n    },\n    {\n      \"column\": \"total sulfur dioxide\",\n      \"properties\": {\n        \"dtype\": \"number\",\n        \"std\": 32.895324478299074,\n        \"min\": 6.0,\n        \"max\": 289.0,\n        \"num_unique_values\": 144,\n        \"samples\": [\n          68.0,\n          35.0,\n          101.0\n        ],\n        \"semantic_type\": \"\",\n        \"description\": \"\"\n      }\n    },\n    {\n      \"column\": \"density\",\n      \"properties\": {\n        \"dtype\": \"number\",\n        \"std\": 0.0018873339538425554,\n        \"min\": 0.99007,\n        \"max\": 1.00369,\n        \"num_unique_values\": 436,\n        \"samples\": [\n          0.99974,\n          1.0001,\n          0.99471\n        ],\n        \"semantic_type\": \"\",\n        \"description\": \"\"\n      }\n    },\n    {\n      \"column\": \"pH\",\n      \"properties\": {\n        \"dtype\": \"number\",\n        \"std\": 0.15438646490354277,\n        \"min\": 2.74,\n        \"max\": 4.01,\n        \"num_unique_values\": 89,\n        \"samples\": [\n          3.07,\n          3.0,\n          3.15\n        ],\n        \"semantic_type\": \"\",\n        \"description\": \"\"\n      }\n    },\n    {\n      \"column\": \"sulphates\",\n      \"properties\": {\n        \"dtype\": \"number\",\n        \"std\": 0.16950697959010996,\n        \"min\": 0.33,\n        \"max\": 2.0,\n        \"num_unique_values\": 96,\n        \"samples\": [\n          1.07,\n          1.04,\n          1.18\n        ],\n        \"semantic_type\": \"\",\n        \"description\": \"\"\n      }\n    },\n    {\n      \"column\": \"alcohol\",\n      \"properties\": {\n        \"dtype\": \"number\",\n        \"std\": 1.0656675818563988,\n        \"min\": 8.4,\n        \"max\": 14.9,\n        \"num_unique_values\": 65,\n        \"samples\": [\n          8.5,\n          9.95,\n          9.4\n        ],\n        \"semantic_type\": \"\",\n        \"description\": \"\"\n      }\n    },\n    {\n      \"column\": \"quality\",\n      \"properties\": {\n        \"dtype\": \"number\",\n        \"std\": 0,\n        \"min\": 3,\n        \"max\": 8,\n        \"num_unique_values\": 6,\n        \"samples\": [\n          5,\n          6,\n          3\n        ],\n        \"semantic_type\": \"\",\n        \"description\": \"\"\n      }\n    }\n  ]\n}",
              "type": "dataframe",
              "variable_name": "data"
            },
            "text/html": [
              "\n",
              "  <div id=\"df-826129e3-ae09-4304-b936-5517d51291d8\" class=\"colab-df-container\">\n",
              "    <div>\n",
              "<style scoped>\n",
              "    .dataframe tbody tr th:only-of-type {\n",
              "        vertical-align: middle;\n",
              "    }\n",
              "\n",
              "    .dataframe tbody tr th {\n",
              "        vertical-align: top;\n",
              "    }\n",
              "\n",
              "    .dataframe thead th {\n",
              "        text-align: right;\n",
              "    }\n",
              "</style>\n",
              "<table border=\"1\" class=\"dataframe\">\n",
              "  <thead>\n",
              "    <tr style=\"text-align: right;\">\n",
              "      <th></th>\n",
              "      <th>fixed acidity</th>\n",
              "      <th>volatile acidity</th>\n",
              "      <th>citric acid</th>\n",
              "      <th>residual sugar</th>\n",
              "      <th>chlorides</th>\n",
              "      <th>free sulfur dioxide</th>\n",
              "      <th>total sulfur dioxide</th>\n",
              "      <th>density</th>\n",
              "      <th>pH</th>\n",
              "      <th>sulphates</th>\n",
              "      <th>alcohol</th>\n",
              "      <th>quality</th>\n",
              "    </tr>\n",
              "  </thead>\n",
              "  <tbody>\n",
              "    <tr>\n",
              "      <th>0</th>\n",
              "      <td>7.4</td>\n",
              "      <td>0.70</td>\n",
              "      <td>0.00</td>\n",
              "      <td>1.9</td>\n",
              "      <td>0.076</td>\n",
              "      <td>11.0</td>\n",
              "      <td>34.0</td>\n",
              "      <td>0.9978</td>\n",
              "      <td>3.51</td>\n",
              "      <td>0.56</td>\n",
              "      <td>9.4</td>\n",
              "      <td>5</td>\n",
              "    </tr>\n",
              "    <tr>\n",
              "      <th>1</th>\n",
              "      <td>7.8</td>\n",
              "      <td>0.88</td>\n",
              "      <td>0.00</td>\n",
              "      <td>2.6</td>\n",
              "      <td>0.098</td>\n",
              "      <td>25.0</td>\n",
              "      <td>67.0</td>\n",
              "      <td>0.9968</td>\n",
              "      <td>3.20</td>\n",
              "      <td>0.68</td>\n",
              "      <td>9.8</td>\n",
              "      <td>5</td>\n",
              "    </tr>\n",
              "    <tr>\n",
              "      <th>2</th>\n",
              "      <td>7.8</td>\n",
              "      <td>0.76</td>\n",
              "      <td>0.04</td>\n",
              "      <td>2.3</td>\n",
              "      <td>0.092</td>\n",
              "      <td>15.0</td>\n",
              "      <td>54.0</td>\n",
              "      <td>0.9970</td>\n",
              "      <td>3.26</td>\n",
              "      <td>0.65</td>\n",
              "      <td>9.8</td>\n",
              "      <td>5</td>\n",
              "    </tr>\n",
              "    <tr>\n",
              "      <th>3</th>\n",
              "      <td>11.2</td>\n",
              "      <td>0.28</td>\n",
              "      <td>0.56</td>\n",
              "      <td>1.9</td>\n",
              "      <td>0.075</td>\n",
              "      <td>17.0</td>\n",
              "      <td>60.0</td>\n",
              "      <td>0.9980</td>\n",
              "      <td>3.16</td>\n",
              "      <td>0.58</td>\n",
              "      <td>9.8</td>\n",
              "      <td>6</td>\n",
              "    </tr>\n",
              "    <tr>\n",
              "      <th>4</th>\n",
              "      <td>7.4</td>\n",
              "      <td>0.70</td>\n",
              "      <td>0.00</td>\n",
              "      <td>1.9</td>\n",
              "      <td>0.076</td>\n",
              "      <td>11.0</td>\n",
              "      <td>34.0</td>\n",
              "      <td>0.9978</td>\n",
              "      <td>3.51</td>\n",
              "      <td>0.56</td>\n",
              "      <td>9.4</td>\n",
              "      <td>5</td>\n",
              "    </tr>\n",
              "  </tbody>\n",
              "</table>\n",
              "</div>\n",
              "    <div class=\"colab-df-buttons\">\n",
              "\n",
              "  <div class=\"colab-df-container\">\n",
              "    <button class=\"colab-df-convert\" onclick=\"convertToInteractive('df-826129e3-ae09-4304-b936-5517d51291d8')\"\n",
              "            title=\"Convert this dataframe to an interactive table.\"\n",
              "            style=\"display:none;\">\n",
              "\n",
              "  <svg xmlns=\"http://www.w3.org/2000/svg\" height=\"24px\" viewBox=\"0 -960 960 960\">\n",
              "    <path d=\"M120-120v-720h720v720H120Zm60-500h600v-160H180v160Zm220 220h160v-160H400v160Zm0 220h160v-160H400v160ZM180-400h160v-160H180v160Zm440 0h160v-160H620v160ZM180-180h160v-160H180v160Zm440 0h160v-160H620v160Z\"/>\n",
              "  </svg>\n",
              "    </button>\n",
              "\n",
              "  <style>\n",
              "    .colab-df-container {\n",
              "      display:flex;\n",
              "      gap: 12px;\n",
              "    }\n",
              "\n",
              "    .colab-df-convert {\n",
              "      background-color: #E8F0FE;\n",
              "      border: none;\n",
              "      border-radius: 50%;\n",
              "      cursor: pointer;\n",
              "      display: none;\n",
              "      fill: #1967D2;\n",
              "      height: 32px;\n",
              "      padding: 0 0 0 0;\n",
              "      width: 32px;\n",
              "    }\n",
              "\n",
              "    .colab-df-convert:hover {\n",
              "      background-color: #E2EBFA;\n",
              "      box-shadow: 0px 1px 2px rgba(60, 64, 67, 0.3), 0px 1px 3px 1px rgba(60, 64, 67, 0.15);\n",
              "      fill: #174EA6;\n",
              "    }\n",
              "\n",
              "    .colab-df-buttons div {\n",
              "      margin-bottom: 4px;\n",
              "    }\n",
              "\n",
              "    [theme=dark] .colab-df-convert {\n",
              "      background-color: #3B4455;\n",
              "      fill: #D2E3FC;\n",
              "    }\n",
              "\n",
              "    [theme=dark] .colab-df-convert:hover {\n",
              "      background-color: #434B5C;\n",
              "      box-shadow: 0px 1px 3px 1px rgba(0, 0, 0, 0.15);\n",
              "      filter: drop-shadow(0px 1px 2px rgba(0, 0, 0, 0.3));\n",
              "      fill: #FFFFFF;\n",
              "    }\n",
              "  </style>\n",
              "\n",
              "    <script>\n",
              "      const buttonEl =\n",
              "        document.querySelector('#df-826129e3-ae09-4304-b936-5517d51291d8 button.colab-df-convert');\n",
              "      buttonEl.style.display =\n",
              "        google.colab.kernel.accessAllowed ? 'block' : 'none';\n",
              "\n",
              "      async function convertToInteractive(key) {\n",
              "        const element = document.querySelector('#df-826129e3-ae09-4304-b936-5517d51291d8');\n",
              "        const dataTable =\n",
              "          await google.colab.kernel.invokeFunction('convertToInteractive',\n",
              "                                                    [key], {});\n",
              "        if (!dataTable) return;\n",
              "\n",
              "        const docLinkHtml = 'Like what you see? Visit the ' +\n",
              "          '<a target=\"_blank\" href=https://colab.research.google.com/notebooks/data_table.ipynb>data table notebook</a>'\n",
              "          + ' to learn more about interactive tables.';\n",
              "        element.innerHTML = '';\n",
              "        dataTable['output_type'] = 'display_data';\n",
              "        await google.colab.output.renderOutput(dataTable, element);\n",
              "        const docLink = document.createElement('div');\n",
              "        docLink.innerHTML = docLinkHtml;\n",
              "        element.appendChild(docLink);\n",
              "      }\n",
              "    </script>\n",
              "  </div>\n",
              "\n",
              "\n",
              "<div id=\"df-0e571903-cecc-4b55-88e5-aa09aa0c878f\">\n",
              "  <button class=\"colab-df-quickchart\" onclick=\"quickchart('df-0e571903-cecc-4b55-88e5-aa09aa0c878f')\"\n",
              "            title=\"Suggest charts\"\n",
              "            style=\"display:none;\">\n",
              "\n",
              "<svg xmlns=\"http://www.w3.org/2000/svg\" height=\"24px\"viewBox=\"0 0 24 24\"\n",
              "     width=\"24px\">\n",
              "    <g>\n",
              "        <path d=\"M19 3H5c-1.1 0-2 .9-2 2v14c0 1.1.9 2 2 2h14c1.1 0 2-.9 2-2V5c0-1.1-.9-2-2-2zM9 17H7v-7h2v7zm4 0h-2V7h2v10zm4 0h-2v-4h2v4z\"/>\n",
              "    </g>\n",
              "</svg>\n",
              "  </button>\n",
              "\n",
              "<style>\n",
              "  .colab-df-quickchart {\n",
              "      --bg-color: #E8F0FE;\n",
              "      --fill-color: #1967D2;\n",
              "      --hover-bg-color: #E2EBFA;\n",
              "      --hover-fill-color: #174EA6;\n",
              "      --disabled-fill-color: #AAA;\n",
              "      --disabled-bg-color: #DDD;\n",
              "  }\n",
              "\n",
              "  [theme=dark] .colab-df-quickchart {\n",
              "      --bg-color: #3B4455;\n",
              "      --fill-color: #D2E3FC;\n",
              "      --hover-bg-color: #434B5C;\n",
              "      --hover-fill-color: #FFFFFF;\n",
              "      --disabled-bg-color: #3B4455;\n",
              "      --disabled-fill-color: #666;\n",
              "  }\n",
              "\n",
              "  .colab-df-quickchart {\n",
              "    background-color: var(--bg-color);\n",
              "    border: none;\n",
              "    border-radius: 50%;\n",
              "    cursor: pointer;\n",
              "    display: none;\n",
              "    fill: var(--fill-color);\n",
              "    height: 32px;\n",
              "    padding: 0;\n",
              "    width: 32px;\n",
              "  }\n",
              "\n",
              "  .colab-df-quickchart:hover {\n",
              "    background-color: var(--hover-bg-color);\n",
              "    box-shadow: 0 1px 2px rgba(60, 64, 67, 0.3), 0 1px 3px 1px rgba(60, 64, 67, 0.15);\n",
              "    fill: var(--button-hover-fill-color);\n",
              "  }\n",
              "\n",
              "  .colab-df-quickchart-complete:disabled,\n",
              "  .colab-df-quickchart-complete:disabled:hover {\n",
              "    background-color: var(--disabled-bg-color);\n",
              "    fill: var(--disabled-fill-color);\n",
              "    box-shadow: none;\n",
              "  }\n",
              "\n",
              "  .colab-df-spinner {\n",
              "    border: 2px solid var(--fill-color);\n",
              "    border-color: transparent;\n",
              "    border-bottom-color: var(--fill-color);\n",
              "    animation:\n",
              "      spin 1s steps(1) infinite;\n",
              "  }\n",
              "\n",
              "  @keyframes spin {\n",
              "    0% {\n",
              "      border-color: transparent;\n",
              "      border-bottom-color: var(--fill-color);\n",
              "      border-left-color: var(--fill-color);\n",
              "    }\n",
              "    20% {\n",
              "      border-color: transparent;\n",
              "      border-left-color: var(--fill-color);\n",
              "      border-top-color: var(--fill-color);\n",
              "    }\n",
              "    30% {\n",
              "      border-color: transparent;\n",
              "      border-left-color: var(--fill-color);\n",
              "      border-top-color: var(--fill-color);\n",
              "      border-right-color: var(--fill-color);\n",
              "    }\n",
              "    40% {\n",
              "      border-color: transparent;\n",
              "      border-right-color: var(--fill-color);\n",
              "      border-top-color: var(--fill-color);\n",
              "    }\n",
              "    60% {\n",
              "      border-color: transparent;\n",
              "      border-right-color: var(--fill-color);\n",
              "    }\n",
              "    80% {\n",
              "      border-color: transparent;\n",
              "      border-right-color: var(--fill-color);\n",
              "      border-bottom-color: var(--fill-color);\n",
              "    }\n",
              "    90% {\n",
              "      border-color: transparent;\n",
              "      border-bottom-color: var(--fill-color);\n",
              "    }\n",
              "  }\n",
              "</style>\n",
              "\n",
              "  <script>\n",
              "    async function quickchart(key) {\n",
              "      const quickchartButtonEl =\n",
              "        document.querySelector('#' + key + ' button');\n",
              "      quickchartButtonEl.disabled = true;  // To prevent multiple clicks.\n",
              "      quickchartButtonEl.classList.add('colab-df-spinner');\n",
              "      try {\n",
              "        const charts = await google.colab.kernel.invokeFunction(\n",
              "            'suggestCharts', [key], {});\n",
              "      } catch (error) {\n",
              "        console.error('Error during call to suggestCharts:', error);\n",
              "      }\n",
              "      quickchartButtonEl.classList.remove('colab-df-spinner');\n",
              "      quickchartButtonEl.classList.add('colab-df-quickchart-complete');\n",
              "    }\n",
              "    (() => {\n",
              "      let quickchartButtonEl =\n",
              "        document.querySelector('#df-0e571903-cecc-4b55-88e5-aa09aa0c878f button');\n",
              "      quickchartButtonEl.style.display =\n",
              "        google.colab.kernel.accessAllowed ? 'block' : 'none';\n",
              "    })();\n",
              "  </script>\n",
              "</div>\n",
              "\n",
              "    </div>\n",
              "  </div>\n"
            ],
            "text/plain": [
              "   fixed acidity  volatile acidity  citric acid  residual sugar  chlorides  \\\n",
              "0            7.4              0.70         0.00             1.9      0.076   \n",
              "1            7.8              0.88         0.00             2.6      0.098   \n",
              "2            7.8              0.76         0.04             2.3      0.092   \n",
              "3           11.2              0.28         0.56             1.9      0.075   \n",
              "4            7.4              0.70         0.00             1.9      0.076   \n",
              "\n",
              "   free sulfur dioxide  total sulfur dioxide  density    pH  sulphates  \\\n",
              "0                 11.0                  34.0   0.9978  3.51       0.56   \n",
              "1                 25.0                  67.0   0.9968  3.20       0.68   \n",
              "2                 15.0                  54.0   0.9970  3.26       0.65   \n",
              "3                 17.0                  60.0   0.9980  3.16       0.58   \n",
              "4                 11.0                  34.0   0.9978  3.51       0.56   \n",
              "\n",
              "   alcohol  quality  \n",
              "0      9.4        5  \n",
              "1      9.8        5  \n",
              "2      9.8        5  \n",
              "3      9.8        6  \n",
              "4      9.4        5  "
            ]
          },
          "execution_count": 9,
          "metadata": {},
          "output_type": "execute_result"
        }
      ],
      "source": [
        "# Here we are taking wine quality dataset\n",
        "# It is a regression data set\n",
        "# This data set is available in kaggle as wela as in UCI website\n",
        "data=pd.read_csv('/content/winequality_red.csv')\n",
        "data.head()"
      ]
    },
    {
      "cell_type": "code",
      "execution_count": null,
      "metadata": {
        "id": "vj3ged6qo90_"
      },
      "outputs": [],
      "source": [
        "#data.dropna"
      ]
    },
    {
      "cell_type": "code",
      "execution_count": null,
      "metadata": {
        "colab": {
          "base_uri": "https://localhost:8080/"
        },
        "id": "gSBm1FE0cZ_6",
        "outputId": "1b88f6d4-db84-4a12-b02d-37ba48284654"
      },
      "outputs": [
        {
          "data": {
            "text/plain": [
              "Index(['fixed acidity', 'volatile acidity', 'citric acid', 'residual sugar',\n",
              "       'chlorides', 'free sulfur dioxide', 'total sulfur dioxide', 'density',\n",
              "       'pH', 'sulphates', 'alcohol', 'quality'],\n",
              "      dtype='object')"
            ]
          },
          "execution_count": 11,
          "metadata": {},
          "output_type": "execute_result"
        }
      ],
      "source": [
        "data.columns"
      ]
    },
    {
      "cell_type": "code",
      "execution_count": null,
      "metadata": {
        "colab": {
          "base_uri": "https://localhost:8080/"
        },
        "id": "NRXpIhxacpFX",
        "outputId": "11fdcdb2-4258-478a-ca0a-10fcbdbadd06"
      },
      "outputs": [
        {
          "data": {
            "text/plain": [
              "(1599, 12)"
            ]
          },
          "execution_count": 12,
          "metadata": {},
          "output_type": "execute_result"
        }
      ],
      "source": [
        "data.shape\n",
        "# we have 12 columns\n",
        "# In that 11 columns are input columns ==================== > X\n",
        "# 1 column: Quality is output column( Target features) ===== > y\n",
        "# The total number of observations are 1599"
      ]
    },
    {
      "cell_type": "code",
      "execution_count": null,
      "metadata": {
        "colab": {
          "base_uri": "https://localhost:8080/"
        },
        "id": "at7B-U6kcsRa",
        "outputId": "e1704397-a582-488d-b7b0-94e87dd5ef15"
      },
      "outputs": [
        {
          "name": "stdout",
          "output_type": "stream",
          "text": [
            "<class 'pandas.core.frame.DataFrame'>\n",
            "RangeIndex: 1599 entries, 0 to 1598\n",
            "Data columns (total 12 columns):\n",
            " #   Column                Non-Null Count  Dtype  \n",
            "---  ------                --------------  -----  \n",
            " 0   fixed acidity         1599 non-null   float64\n",
            " 1   volatile acidity      1599 non-null   float64\n",
            " 2   citric acid           1599 non-null   float64\n",
            " 3   residual sugar        1599 non-null   float64\n",
            " 4   chlorides             1599 non-null   float64\n",
            " 5   free sulfur dioxide   1599 non-null   float64\n",
            " 6   total sulfur dioxide  1599 non-null   float64\n",
            " 7   density               1599 non-null   float64\n",
            " 8   pH                    1599 non-null   float64\n",
            " 9   sulphates             1599 non-null   float64\n",
            " 10  alcohol               1599 non-null   float64\n",
            " 11  quality               1599 non-null   int64  \n",
            "dtypes: float64(11), int64(1)\n",
            "memory usage: 150.0 KB\n"
          ]
        }
      ],
      "source": [
        "data.info()"
      ]
    },
    {
      "cell_type": "code",
      "execution_count": null,
      "metadata": {
        "colab": {
          "base_uri": "https://localhost:8080/"
        },
        "id": "83uEIAMMdGB7",
        "outputId": "bc400dc1-ea20-4bd9-893f-c479fab5dad2"
      },
      "outputs": [
        {
          "data": {
            "text/plain": [
              "fixed acidity           0\n",
              "volatile acidity        0\n",
              "citric acid             0\n",
              "residual sugar          0\n",
              "chlorides               0\n",
              "free sulfur dioxide     0\n",
              "total sulfur dioxide    0\n",
              "density                 0\n",
              "pH                      0\n",
              "sulphates               0\n",
              "alcohol                 0\n",
              "quality                 0\n",
              "dtype: int64"
            ]
          },
          "execution_count": 14,
          "metadata": {},
          "output_type": "execute_result"
        }
      ],
      "source": [
        "data.isnull().sum()"
      ]
    },
    {
      "cell_type": "markdown",
      "metadata": {
        "id": "1iE-l--3dmWM"
      },
      "source": [
        "$Step-4$:\n",
        "\n",
        "**Develop ML model using MLflow**"
      ]
    },
    {
      "cell_type": "markdown",
      "metadata": {
        "id": "t7-oo150dxTa"
      },
      "source": [
        "- we need to divide data into two parts train_data  and test_data\n",
        "\n",
        "- both train_data and test_data includes input columns(X) and output columns(y)\n",
        "\n",
        "- Next we divide train_data to X_train and y_train\n",
        "\n",
        "- Next we divide test_data to X_test and y_test\n",
        "\n",
        "- Model will be developed on train data\n",
        "\n",
        "- Model predictions happen on X_test data that is called y_predictions\n",
        "\n",
        "- Finally we compare y_test with y_predictions\n"
      ]
    },
    {
      "cell_type": "code",
      "execution_count": null,
      "metadata": {
        "colab": {
          "base_uri": "https://localhost:8080/"
        },
        "id": "A1CrlRSrdMKF",
        "outputId": "fe4c8a42-2578-45a1-cf22-170430ae9598"
      },
      "outputs": [
        {
          "name": "stderr",
          "output_type": "stream",
          "text": [
            "2024/05/31 06:32:00 INFO mlflow.tracking.fluent: Experiment with name '/mlflow/naresh_it' does not exist. Creating a new experiment.\n"
          ]
        },
        {
          "data": {
            "text/plain": [
              "<Experiment: artifact_location='file:///content/mlruns/946479812595149752', creation_time=1717137120631, experiment_id='946479812595149752', last_update_time=1717137120631, lifecycle_stage='active', name='/mlflow/naresh_it', tags={}>"
            ]
          },
          "execution_count": 15,
          "metadata": {},
          "output_type": "execute_result"
        }
      ],
      "source": [
        "# Start our mlflow here\n",
        "# Mlflow will create some default experiments, our models will deploy in that experiment\n",
        "\n",
        "mlflow.set_experiment(\"/mlflow/naresh_it\")\n",
        "# all the logs\n",
        "# all the deployments\n",
        "# will save in this folder  \"mlflow/naresh_it\"\n",
        "# artifacts\n",
        "# content/mlruns/254997122522303723"
      ]
    },
    {
      "cell_type": "code",
      "execution_count": null,
      "metadata": {
        "colab": {
          "base_uri": "https://localhost:8080/"
        },
        "id": "n3EjMS1ZfhZH",
        "outputId": "c7797b78-3b2d-4d96-a559-00fcfac5f1fc"
      },
      "outputs": [
        {
          "name": "stderr",
          "output_type": "stream",
          "text": [
            "2024/05/31 06:33:30 INFO mlflow.tracking.fluent: Experiment with name '/mlflow/saadkhan' does not exist. Creating a new experiment.\n"
          ]
        },
        {
          "name": "stdout",
          "output_type": "stream",
          "text": [
            "168934479190679116\n",
            "/mlflow/saadkhan\n",
            "active\n",
            "file:///content/mlruns/168934479190679116\n"
          ]
        }
      ],
      "source": [
        "print(mlflow.set_experiment(\"/mlflow/saadkhan\").experiment_id)\n",
        "print(mlflow.set_experiment(\"/mlflow/saadkhan\").name)\n",
        "print(mlflow.set_experiment(\"/mlflow/saadkhan\").lifecycle_stage)\n",
        "print(mlflow.set_experiment(\"/mlflow/saadkhan\").artifact_location)\n",
        "\n",
        "# yaml files configuration files"
      ]
    },
    {
      "cell_type": "code",
      "execution_count": null,
      "metadata": {
        "id": "HF1t4QCvf4Bk"
      },
      "outputs": [],
      "source": [
        "train,test=train_test_split(data,test_size=0.3,random_state=1234)\n",
        "\n",
        "# test size=0.3 means train data is 70% and test data =30%\n",
        "# random state gives random observations\n",
        "\n",
        "train_x=train.drop(['quality'],axis=1)  # we are droping qulaity column\n",
        "train_y= train[['quality']]\n",
        "test_x=test.drop(['quality'],axis=1)\n",
        "test_y=test[['quality']]"
      ]
    },
    {
      "cell_type": "code",
      "execution_count": null,
      "metadata": {
        "colab": {
          "base_uri": "https://localhost:8080/"
        },
        "id": "znyQViy3g3iP",
        "outputId": "8e1083bc-139f-4a14-8519-267c42e2eb2e"
      },
      "outputs": [
        {
          "data": {
            "text/plain": [
              "((1119, 12), (480, 12))"
            ]
          },
          "execution_count": 20,
          "metadata": {},
          "output_type": "execute_result"
        }
      ],
      "source": [
        "train.shape,test.shape"
      ]
    },
    {
      "cell_type": "code",
      "execution_count": null,
      "metadata": {
        "colab": {
          "base_uri": "https://localhost:8080/"
        },
        "id": "-qJREsSahBC_",
        "outputId": "5b8b2357-d032-4daa-d6fe-ed7ffee4c99f"
      },
      "outputs": [
        {
          "data": {
            "text/plain": [
              "((1119, 11), (480, 11))"
            ]
          },
          "execution_count": 21,
          "metadata": {},
          "output_type": "execute_result"
        }
      ],
      "source": [
        "train_x.shape,test_x.shape"
      ]
    },
    {
      "cell_type": "code",
      "execution_count": null,
      "metadata": {
        "colab": {
          "base_uri": "https://localhost:8080/"
        },
        "id": "x3e6HAKjhGLE",
        "outputId": "a52a8785-e563-42c6-8416-6002501b245a"
      },
      "outputs": [
        {
          "data": {
            "text/plain": [
              "((1119, 1), (480, 1))"
            ]
          },
          "execution_count": 22,
          "metadata": {},
          "output_type": "execute_result"
        }
      ],
      "source": [
        "train_y.shape,test_y.shape"
      ]
    },
    {
      "cell_type": "code",
      "execution_count": null,
      "metadata": {
        "id": "uRjdFBH-hMZo"
      },
      "outputs": [],
      "source": [
        "from mlflow.entities.model_registry import registered_model\n",
        "#from atexit import register\n",
        "def train_model(alpha,l1_ratio):\n",
        "    #==============Develop train test data======================================\n",
        "    train,test=train_test_split(data,\n",
        "                                test_size=0.3,\n",
        "                                random_state=1234)\n",
        "    train_x=train.drop(['quality'],axis=1)  # we are droping qulaity column\n",
        "    train_y= train[['quality']]\n",
        "    test_x=test.drop(['quality'],axis=1)\n",
        "    test_y=test[['quality']]\n",
        "\n",
        "    #====== Now initiate MLflow run==================================\n",
        "    with mlflow.start_run(experiment_id=168934479190679116,\n",
        "                          run_name='regression',\n",
        "                          description='Performing regression model'):\n",
        "\n",
        "        #========== Model building==================================\n",
        "        lr=ElasticNet(alpha=alpha,l1_ratio=l1_ratio)\n",
        "        lr.fit(train_x,train_y)\n",
        "\n",
        "        #========== Model prediction=================================\n",
        "        predicted_data= lr.predict(test_x)\n",
        "\n",
        "        # ========= Model evaluation================================\n",
        "        rmse=np.sqrt(mean_squared_error(test_y,predicted_data))\n",
        "        mae=mean_absolute_error(test_y,predicted_data)\n",
        "        r2=r2_score(test_y,predicted_data)\n",
        "\n",
        "        print(\"rmse:\",rmse)\n",
        "        print(\"mae:\",mae)\n",
        "        print(\"r2_score:\",r2)\n",
        "\n",
        "        #=============Log the metrics, parameters,and model========================\n",
        "        mlflow.log_param(\"alpha\",alpha)\n",
        "        mlflow.log_param(\"l1_ratio\",l1_ratio)\n",
        "\n",
        "        mlflow.log_metric(\"RMSE\",rmse)\n",
        "        mlflow.log_metric(\"MAE\",mae)\n",
        "        mlflow.log_metric(\"R2\",r2)\n",
        "\n",
        "        mlflow.sklearn.log_model(lr,\"model\",registered_model_name=\"ElasticNet\")\n",
        "\n",
        "\n"
      ]
    },
    {
      "cell_type": "code",
      "execution_count": null,
      "metadata": {
        "colab": {
          "base_uri": "https://localhost:8080/"
        },
        "id": "530_4kABkaPq",
        "outputId": "ee53c0bb-cee2-43d0-c55a-224b87ef82ac"
      },
      "outputs": [
        {
          "name": "stdout",
          "output_type": "stream",
          "text": [
            "rmse: 0.6699096451486062\n",
            "mae: 0.5221158983216444\n",
            "r2_score: 0.21304605273127153\n"
          ]
        },
        {
          "name": "stderr",
          "output_type": "stream",
          "text": [
            "/usr/local/lib/python3.10/dist-packages/_distutils_hack/__init__.py:33: UserWarning: Setuptools is replacing distutils.\n",
            "  warnings.warn(\"Setuptools is replacing distutils.\")\n",
            "Successfully registered model 'ElasticNet'.\n",
            "Created version '1' of model 'ElasticNet'.\n"
          ]
        }
      ],
      "source": [
        "train_model(0.3,0.4)\n",
        "\n",
        "# In the name of Elastic model\n",
        "# we ran two times:  a new version"
      ]
    },
    {
      "cell_type": "markdown",
      "metadata": {
        "id": "1JFNmymXmHC5"
      },
      "source": [
        "$Step-5$: **Connect with MLflow UI**"
      ]
    },
    {
      "cell_type": "code",
      "execution_count": null,
      "metadata": {
        "colab": {
          "base_uri": "https://localhost:8080/"
        },
        "id": "D7T3Q1r6keGf",
        "outputId": "32aed4c8-8358-4653-ce09-a199b6a7e544"
      },
      "outputs": [
        {
          "name": "stdout",
          "output_type": "stream",
          "text": [
            "Collecting pyngrok\n",
            "  Downloading pyngrok-7.1.6-py3-none-any.whl (22 kB)\n",
            "Requirement already satisfied: PyYAML>=5.1 in /usr/local/lib/python3.10/dist-packages (from pyngrok) (6.0.1)\n",
            "Installing collected packages: pyngrok\n",
            "Successfully installed pyngrok-7.1.6\n"
          ]
        }
      ],
      "source": [
        "# Now we need to see all artifacts in mlflow UI\n",
        "# For this will use  ngrok\n",
        "\n",
        "!pip install pyngrok"
      ]
    },
    {
      "cell_type": "code",
      "execution_count": null,
      "metadata": {
        "colab": {
          "base_uri": "https://localhost:8080/"
        },
        "id": "GyJTsFCgmo2x",
        "outputId": "94387555-f5b0-4c0e-bcf2-4ce16473888f"
      },
      "outputs": [
        {
          "name": "stdout",
          "output_type": "stream",
          "text": [
            "Tracking uri: https://6347-104-198-179-157.ngrok-free.app\n"
          ]
        }
      ],
      "source": [
        "from pyngrok import ngrok\n",
        "ngrok_tunnel= ngrok.connect(addr='5000',proto=\"http\")\n",
        "print(\"Tracking uri:\",ngrok_tunnel.public_url)"
      ]
    },
    {
      "cell_type": "code",
      "execution_count": null,
      "metadata": {
        "colab": {
          "background_save": true,
          "base_uri": "https://localhost:8080/"
        },
        "id": "uGk8vfVBoEMz",
        "outputId": "0ab66055-fe70-4aac-d4bb-6ebc7402271c"
      },
      "outputs": [
        {
          "name": "stdout",
          "output_type": "stream",
          "text": [
            "[2024-05-31 07:02:52 +0000] [8875] [INFO] Starting gunicorn 22.0.0\n",
            "[2024-05-31 07:02:52 +0000] [8875] [INFO] Listening at: http://127.0.0.1:5000 (8875)\n",
            "[2024-05-31 07:02:52 +0000] [8875] [INFO] Using worker: sync\n",
            "[2024-05-31 07:02:52 +0000] [8876] [INFO] Booting worker with pid: 8876\n",
            "[2024-05-31 07:02:52 +0000] [8877] [INFO] Booting worker with pid: 8877\n",
            "[2024-05-31 07:02:52 +0000] [8878] [INFO] Booting worker with pid: 8878\n",
            "[2024-05-31 07:02:52 +0000] [8879] [INFO] Booting worker with pid: 8879\n"
          ]
        }
      ],
      "source": [
        "!mlflow ui\n",
        "# trigger this first\n",
        "# then open url"
      ]
    },
    {
      "cell_type": "code",
      "execution_count": null,
      "metadata": {
        "id": "qDLFExxWnBZF"
      },
      "outputs": [],
      "source": [
        "# 2hBhb2tVKvPLkF24ACLI7ULAnkT_77nT4dmo24Hu28Tpf4U3h"
      ]
    },
    {
      "cell_type": "markdown",
      "metadata": {
        "id": "Un0uhu62ncp2"
      },
      "source": [
        "<div class=\"ant-col ant-col-sm-24 ant-col-lg-18 ant-col-xl-13\"><h1 class=\"ant-typography\" id=\"authtoken\">Your Authtoken</h1><p class=\"cH1zG6wWq9mZVCFSudL9 _rz65p6nhEbCQ5T8181l\">This is your personal Authtoken. Use this to authenticate the ngrok agent that you downloaded.</p><div class=\"ant-row\" style=\"margin-left: -4px; margin-right: -4px; row-gap: 0px;\"><div class=\"ant-col\" style=\"padding-left: 4px; padding-right: 4px; flex: 1 1 auto;\"><input class=\"ant-input\" readonly=\"\" type=\"text\" value=\"2KVWElPAg1tzrBVnxmFFYaxfeyg_2cCYD9fH3HpMqU1u5TEsC\"></div><div class=\"ant-col\" style=\"padding-left: 4px; padding-right: 4px;\"><button data-clipboard-text=\"2KVWElPAg1tzrBVnxmFFYaxfeyg_2cCYD9fH3HpMqU1u5TEsC\" type=\"button\" class=\"ant-btn ant-btn-primary\"><span role=\"img\" aria-label=\"copy\" class=\"anticon anticon-copy\"><svg viewBox=\"64 64 896 896\" focusable=\"false\" data-icon=\"copy\" width=\"1em\" height=\"1em\" fill=\"currentColor\" aria-hidden=\"true\"><path d=\"M832 64H296c-4.4 0-8 3.6-8 8v56c0 4.4 3.6 8 8 8h496v688c0 4.4 3.6 8 8 8h56c4.4 0 8-3.6 8-8V96c0-17.7-14.3-32-32-32zM704 192H192c-17.7 0-32 14.3-32 32v530.7c0 8.5 3.4 16.6 9.4 22.6l173.3 173.3c2.2 2.2 4.7 4 7.4 5.5v1.9h4.2c3.5 1.3 7.2 2 11 2H704c17.7 0 32-14.3 32-32V224c0-17.7-14.3-32-32-32zM382 896h-.2L232 746.2v-.2h150v150z\"></path></svg></span><span>Copy</span></button></div></div></div>"
      ]
    },
    {
      "cell_type": "code",
      "execution_count": null,
      "metadata": {
        "id": "sCybuDDH1V07"
      },
      "outputs": [],
      "source": [
        "from pyngrok import ngrok\n",
        "ngrok.kill()"
      ]
    },
    {
      "cell_type": "code",
      "execution_count": null,
      "metadata": {
        "colab": {
          "base_uri": "https://localhost:8080/"
        },
        "id": "aQkpxzTLndQA",
        "outputId": "aa68d942-b7e2-4fd1-f81c-f53077d2609a"
      },
      "outputs": [
        {
          "name": "stdout",
          "output_type": "stream",
          "text": [
            "Tracking uri: https://c984-104-198-179-157.ngrok-free.app\n"
          ]
        }
      ],
      "source": [
        "from pyngrok import ngrok\n",
        "ngrok.kill()  # It will kill the already established tunnels\n",
        "\n",
        "auth_code='2hBhb2tVKvPLkF24ACLI7ULAnkT_77nT4dmo24Hu28Tpf4U3h'\n",
        "ngrok.set_auth_token(auth_code)\n",
        "\n",
        "\n",
        "ngrok_tunnel= ngrok.connect(addr='5000',proto=\"http\")\n",
        "print(\"Tracking uri:\",ngrok_tunnel.public_url)\n"
      ]
    },
    {
      "cell_type": "code",
      "execution_count": null,
      "metadata": {
        "colab": {
          "base_uri": "https://localhost:8080/"
        },
        "id": "bFuGWy1Lbw_i",
        "outputId": "c008e73c-ddf8-452c-b384-ce699afccf2b"
      },
      "outputs": [
        {
          "data": {
            "text/plain": [
              "array([5.50691077, 5.44702698, 5.76445222, 5.76641743, 5.90243809,\n",
              "       5.5036374 , 5.75608784, 5.98582184, 5.57053167, 6.26511971,\n",
              "       5.22755313, 5.3581384 , 5.81797447, 5.55800702, 5.62260861,\n",
              "       5.36544904, 5.15382329, 5.42999068, 5.85164569, 5.13261257,\n",
              "       5.03540007, 5.72708555, 5.35291168, 5.64415582, 5.7580662 ,\n",
              "       5.85814378, 5.42198793, 5.28166568, 5.71111299, 5.58721121,\n",
              "       5.25290353, 5.92462832, 5.21442612, 5.67868597, 5.4801912 ,\n",
              "       5.39120765, 6.04083875, 5.51315581, 5.50042925, 5.89968015,\n",
              "       5.25243326, 5.79612922, 5.70267694, 5.45013977, 5.51339529,\n",
              "       5.3077769 , 4.97863579, 5.83555803, 5.74596448, 5.45110355,\n",
              "       5.25886646, 5.61039293, 6.02969701, 5.79597746, 5.67296378,\n",
              "       5.5123182 , 5.93171896, 5.42669798, 5.94282161, 5.44801926,\n",
              "       5.71459517, 5.1808671 , 5.28114072, 5.5429531 , 5.26551196,\n",
              "       5.88447329, 5.55443771, 5.97316062, 5.35080663, 5.84528777,\n",
              "       5.89718998, 5.81779455, 5.37387673, 6.01998578, 5.28166568,\n",
              "       5.51403228, 6.18341298, 5.81794479, 5.10793968, 5.34207852,\n",
              "       5.59026392, 5.39471391, 5.79926458, 5.8076285 , 5.49263202,\n",
              "       5.50055218, 5.82206368, 5.3803558 , 5.81862131, 5.79942125,\n",
              "       6.05472666, 5.37269552, 5.72174227, 5.25222964, 5.75247885,\n",
              "       5.91022743, 5.49189252, 5.94950145, 5.98857939, 6.18341298,\n",
              "       5.53708144, 5.636761  , 5.01851843, 5.29515728, 5.48753784,\n",
              "       5.25268925, 5.78367181, 5.58044844, 5.66096618, 5.61312218,\n",
              "       5.80907603, 5.77078119, 6.01264085, 5.63920128, 5.63059886,\n",
              "       5.47949903, 5.64201431, 5.84371394, 6.15414105, 5.21608741,\n",
              "       5.79580917, 5.76300936, 5.50938079, 6.10075123, 5.86594003,\n",
              "       5.1428468 , 5.51716487, 6.07635402, 5.87624244, 5.80113831,\n",
              "       5.16930615, 5.08011379, 5.8916408 , 5.4112736 , 5.45862412,\n",
              "       6.08061452, 5.59631898, 5.55997807, 5.38701611, 5.43958577,\n",
              "       5.64974278, 5.56378488, 5.41116483, 5.23976572, 5.52808489,\n",
              "       5.57650796, 5.52824455, 5.93242719, 6.05354735, 5.47920024,\n",
              "       5.29330666, 5.68703838, 6.02564868, 6.12644877, 5.78018938,\n",
              "       5.71631876, 5.7039909 , 5.76976621, 6.12717709, 5.75268326,\n",
              "       6.05998345, 5.79468549, 5.7155406 , 5.43414484, 5.52329311,\n",
              "       5.98105685, 5.47512624, 5.06600957, 5.75796796, 5.71585615,\n",
              "       5.12262065, 5.4340175 , 5.24351455, 5.50770561, 6.2963469 ,\n",
              "       5.65217286, 5.46726603, 5.62232681, 5.69112218, 4.91095055,\n",
              "       5.60844436, 5.58965034, 5.91272918, 6.10290103, 5.39665529,\n",
              "       5.40722318, 5.78674683, 5.91474517, 5.78204139, 5.78623075,\n",
              "       5.75506747, 5.57928012, 5.38818134, 6.03560591, 5.63471202,\n",
              "       5.06831402, 5.34675724, 6.32414547, 5.44044491, 5.3401936 ,\n",
              "       5.69990861, 6.00609708, 5.61460394, 5.30653304, 6.14977263,\n",
              "       5.60019647, 5.6776602 , 5.15480898, 5.17737038, 5.74109691,\n",
              "       5.86930013, 5.42410265, 5.66934228, 5.38533534, 5.7113709 ,\n",
              "       6.00782116, 5.42541739, 5.59423407, 5.50439382, 5.6903557 ,\n",
              "       5.48256383, 5.79592561, 5.1837843 , 5.55570414, 5.5771373 ,\n",
              "       5.20957753, 5.38974879, 5.69882294, 5.55792824, 5.79194937,\n",
              "       5.77918926, 5.73189076, 5.55443771, 5.43060443, 5.54554402,\n",
              "       5.54835974, 6.00811204, 5.71555066, 5.25970717, 6.00614104,\n",
              "       5.46978864, 5.42935694, 6.03793498, 5.15956721, 5.51036162,\n",
              "       5.22158224, 5.23785902, 5.66339357, 5.95547782, 5.80605625,\n",
              "       5.76354721, 5.75074418, 5.8035805 , 5.42410265, 5.80265126,\n",
              "       5.58586955, 5.4330528 , 5.47921531, 5.71673359, 5.66072657,\n",
              "       5.5375735 , 5.43087608, 5.71205242, 5.87766813, 5.56704134,\n",
              "       5.74420259, 5.60092386, 5.77549663, 5.48062054, 5.67296378,\n",
              "       5.61817206, 5.55809625, 5.72756095, 5.77167343, 5.33579818,\n",
              "       5.69040236, 6.11718866, 5.34653645, 5.46896456, 5.507507  ,\n",
              "       5.78529427, 5.46608119, 5.7942474 , 5.3940012 , 5.41829286,\n",
              "       5.73449806, 5.68278078, 5.26136359, 5.55823168, 5.70409106,\n",
              "       6.05984743, 5.80786601, 5.20025773, 5.82939478, 5.65075453,\n",
              "       5.67069572, 5.49906114, 5.46832996, 5.20957753, 5.40449873,\n",
              "       5.60694857, 6.18792601, 5.76910759, 5.2851093 , 6.01345089,\n",
              "       6.02708378, 5.56957855, 5.50699789, 5.55108767, 5.18368953,\n",
              "       5.30607191, 5.12458882, 5.81037565, 5.42675312, 5.92067416,\n",
              "       5.51530595, 5.07381063, 6.134963  , 5.86445326, 5.11333474,\n",
              "       5.93759469, 5.59187046, 5.49759445, 5.67868597, 5.39545421,\n",
              "       4.97533597, 5.91474517, 5.45784415, 5.76909831, 5.39326361,\n",
              "       5.99500911, 4.99157347, 5.97580604, 5.43160763, 5.28743461,\n",
              "       5.60596988, 5.65339145, 5.41742483, 5.53751178, 5.8677084 ,\n",
              "       6.26696764, 6.12790718, 5.8202445 , 6.26121944, 5.40722318,\n",
              "       5.21257509, 5.63059886, 5.54989046, 5.8113512 , 5.57485687,\n",
              "       5.61935618, 6.02298662, 5.25196428, 5.27093459, 5.82613768,\n",
              "       5.19185853, 6.15720404, 5.60117084, 5.48851603, 5.53808583,\n",
              "       5.86056557, 5.50568816, 5.40868448, 5.84569907, 6.07237169,\n",
              "       5.93608963, 5.18975013, 5.622855  , 5.5239797 , 6.08210142,\n",
              "       5.37278817, 5.54966599, 5.77428713, 5.6272191 , 5.71275342,\n",
              "       5.93849681, 6.15847021, 5.43552158, 5.33881996, 4.88436712,\n",
              "       5.4340175 , 5.62536464, 5.31689034, 5.55919441, 5.78880147,\n",
              "       5.36038948, 5.26935694, 5.08837624, 5.25325061, 5.57230004,\n",
              "       5.92067416, 5.90229693, 5.49589755, 5.60711627, 5.75608784,\n",
              "       5.45543236, 5.07824756, 5.44397954, 5.39889887, 5.90471392,\n",
              "       5.8801373 , 5.190476  , 5.35935337, 5.42556895, 6.6664665 ,\n",
              "       5.47193856, 5.96812535, 6.09492676, 5.86342769, 5.71933549,\n",
              "       5.66097178, 5.71600896, 5.17275391, 5.95159763, 5.73062863,\n",
              "       5.37533593, 5.62890315, 5.30912127, 5.5283715 , 5.3892516 ,\n",
              "       5.68066085, 5.15036316, 5.87708019, 5.61485224, 5.80455618,\n",
              "       5.55810836, 5.060925  , 6.04258882, 6.27570759, 5.60813645,\n",
              "       5.54747882, 5.9629672 , 5.43376321, 5.79771674, 5.30618787,\n",
              "       5.74352567, 5.26329918, 5.81807154, 5.76473173, 5.8203169 ,\n",
              "       5.50241105, 4.94302652, 5.42363803, 5.55823168, 5.84983507,\n",
              "       5.4613102 , 5.35993684, 5.10677999, 5.06591961, 5.62247298,\n",
              "       5.84569907, 5.39983639, 5.720008  , 5.9222241 , 5.4570216 ,\n",
              "       5.73456203, 6.19295285, 5.29615383, 5.43939295, 5.80356721,\n",
              "       5.79597746, 5.6153229 , 5.23785902, 5.61068729, 5.73784217,\n",
              "       5.67320404, 6.14289791, 5.35921096, 5.55570414, 5.2563272 ,\n",
              "       5.39532456, 5.54232415, 5.49330571, 5.13984885, 6.04204596,\n",
              "       5.58007819, 5.89350472, 5.96722192, 5.76053998, 5.72911991])"
            ]
          },
          "execution_count": 37,
          "metadata": {},
          "output_type": "execute_result"
        }
      ],
      "source": [
        "import mlflow\n",
        "logged_model = 'runs:/874b3cc09f94469ca678ca2b2e1a9cce/model'\n",
        "\n",
        "# Load model as a PyFuncModel.\n",
        "loaded_model = mlflow.pyfunc.load_model(logged_model)\n",
        "\n",
        "# Predict on a Pandas DataFrame.\n",
        "import pandas as pd\n",
        "loaded_model.predict(pd.DataFrame(test_x))"
      ]
    },
    {
      "cell_type": "code",
      "execution_count": null,
      "metadata": {
        "id": "mWysu04VqCKY"
      },
      "outputs": [],
      "source": []
    }
  ],
  "metadata": {
    "colab": {
      "provenance": []
    },
    "kernelspec": {
      "display_name": "Python 3",
      "name": "python3"
    },
    "language_info": {
      "name": "python"
    }
  },
  "nbformat": 4,
  "nbformat_minor": 0
}